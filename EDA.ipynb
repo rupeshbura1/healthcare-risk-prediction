{
 "cells": [
  {
   "cell_type": "markdown",
   "id": "7356ed1c",
   "metadata": {},
   "source": [
    "# 📊 Exploratory Data Analysis (EDA)\n",
    "\n",
    "This notebook performs EDA on the UCI Diabetes dataset."
   ]
  },
  {
   "cell_type": "code",
   "execution_count": null,
   "id": "b04087d4",
   "metadata": {},
   "outputs": [],
   "source": [
    "# Step 1: Import libraries\n",
    "import pandas as pd\n",
    "import numpy as np\n",
    "import matplotlib.pyplot as plt\n",
    "import seaborn as sns\n",
    "\n",
    "%matplotlib inline\n",
    "sns.set(style='whitegrid')\n"
   ]
  },
  {
   "cell_type": "code",
   "execution_count": null,
   "id": "55180972",
   "metadata": {},
   "outputs": [],
   "source": [
    "# Step 2: Load dataset\n",
    "url = 'https://raw.githubusercontent.com/plotly/datasets/master/diabetes.csv'\n",
    "df = pd.read_csv(url)\n",
    "df.head()\n"
   ]
  },
  {
   "cell_type": "code",
   "execution_count": null,
   "id": "507b9389",
   "metadata": {},
   "outputs": [],
   "source": [
    "# Step 3: Basic overview\n",
    "print(\"Shape:\", df.shape)\n",
    "print(\"Columns:\", df.columns.tolist())\n",
    "df.describe()\n"
   ]
  },
  {
   "cell_type": "code",
   "execution_count": null,
   "id": "ceaf66a8",
   "metadata": {},
   "outputs": [],
   "source": [
    "# Step 4: Check for missing or zero values in important columns\n",
    "cols_with_zeros = ['Glucose', 'BloodPressure', 'SkinThickness', 'Insulin', 'BMI']\n",
    "for col in cols_with_zeros:\n",
    "    print(f\"{col}: {(df[col] == 0).sum()} zeros\")\n"
   ]
  },
  {
   "cell_type": "code",
   "execution_count": null,
   "id": "b75a76e1",
   "metadata": {},
   "outputs": [],
   "source": [
    "# Step 5: Replace zeroes with NaN for visualization\n",
    "df_clean = df.copy()\n",
    "df_clean[cols_with_zeros] = df_clean[cols_with_zeros].replace(0, np.nan)\n",
    "\n",
    "# Visualize missingness\n",
    "import missingno as msno\n",
    "msno.matrix(df_clean)\n"
   ]
  },
  {
   "cell_type": "code",
   "execution_count": null,
   "id": "59138bbb",
   "metadata": {},
   "outputs": [],
   "source": [
    "# Step 6: Visualize distributions\n",
    "fig, axs = plt.subplots(2, 3, figsize=(15, 10))\n",
    "for i, col in enumerate(cols_with_zeros):\n",
    "    sns.histplot(df_clean[col].dropna(), kde=True, ax=axs[i//3][i%3])\n",
    "    axs[i//3][i%3].set_title(col)\n",
    "plt.tight_layout()\n"
   ]
  },
  {
   "cell_type": "code",
   "execution_count": null,
   "id": "58942b64",
   "metadata": {},
   "outputs": [],
   "source": [
    "# Step 7: Correlation heatmap\n",
    "plt.figure(figsize=(10, 8))\n",
    "sns.heatmap(df.corr(), annot=True, cmap='coolwarm', fmt=\".2f\")\n",
    "plt.title(\"Correlation Heatmap\")\n",
    "plt.show()\n"
   ]
  },
  {
   "cell_type": "code",
   "execution_count": null,
   "id": "6a3f670d",
   "metadata": {},
   "outputs": [],
   "source": [
    "# Step 8: Outcome distribution\n",
    "sns.countplot(x='Outcome', data=df)\n",
    "plt.title('Diabetes Outcome Distribution')\n",
    "plt.show()\n"
   ]
  },
  {
   "cell_type": "code",
   "execution_count": null,
   "id": "2ec069db",
   "metadata": {},
   "outputs": [],
   "source": [
    "# Step 9: Save cleaned data\n",
    "df_clean.fillna(df_clean.median(), inplace=True)\n",
    "df_clean.to_csv('cleaned_diabetes_data.csv', index=False)\n",
    "print(\"✅ Cleaned data saved as 'cleaned_diabetes_data.csv'\")\n"
   ]
  }
 ],
 "metadata": {},
 "nbformat": 4,
 "nbformat_minor": 5
}
