{
 "cells": [
  {
   "cell_type": "markdown",
   "id": "24734448",
   "metadata": {},
   "source": [
    "# 🤖 Modeling: Predicting Diabetes Risk\n",
    "\n",
    "This notebook builds and evaluates machine learning models on cleaned diabetes data."
   ]
  },
  {
   "cell_type": "code",
   "execution_count": null,
   "id": "6a0feaec",
   "metadata": {},
   "outputs": [],
   "source": [
    "# Step 1: Import libraries\n",
    "import pandas as pd\n",
    "import numpy as np\n",
    "from sklearn.model_selection import train_test_split\n",
    "from sklearn.preprocessing import StandardScaler\n",
    "from sklearn.linear_model import LogisticRegression\n",
    "from sklearn.ensemble import RandomForestClassifier\n",
    "from sklearn.metrics import classification_report, confusion_matrix, roc_auc_score, roc_curve\n",
    "import matplotlib.pyplot as plt\n",
    "import seaborn as sns\n",
    "\n",
    "sns.set(style=\"whitegrid\")\n"
   ]
  },
  {
   "cell_type": "code",
   "execution_count": null,
   "id": "5f472480",
   "metadata": {},
   "outputs": [],
   "source": [
    "# Step 2: Load cleaned dataset\n",
    "df = pd.read_csv('cleaned_diabetes_data.csv')\n",
    "df.head()\n"
   ]
  },
  {
   "cell_type": "code",
   "execution_count": null,
   "id": "ce7da605",
   "metadata": {},
   "outputs": [],
   "source": [
    "# Step 3: Define features and target\n",
    "X = df.drop(\"Outcome\", axis=1)\n",
    "y = df[\"Outcome\"]\n"
   ]
  },
  {
   "cell_type": "code",
   "execution_count": null,
   "id": "a2644973",
   "metadata": {},
   "outputs": [],
   "source": [
    "# Step 4: Train/test split\n",
    "X_train, X_test, y_train, y_test = train_test_split(X, y, test_size=0.2, random_state=42)\n"
   ]
  },
  {
   "cell_type": "code",
   "execution_count": null,
   "id": "879e6bb9",
   "metadata": {},
   "outputs": [],
   "source": [
    "# Step 5: Feature scaling\n",
    "scaler = StandardScaler()\n",
    "X_train_scaled = scaler.fit_transform(X_train)\n",
    "X_test_scaled = scaler.transform(X_test)\n"
   ]
  },
  {
   "cell_type": "code",
   "execution_count": null,
   "id": "95962de2",
   "metadata": {},
   "outputs": [],
   "source": [
    "# Step 6: Train Logistic Regression\n",
    "logreg = LogisticRegression()\n",
    "logreg.fit(X_train_scaled, y_train)\n",
    "y_pred_log = logreg.predict(X_test_scaled)\n"
   ]
  },
  {
   "cell_type": "code",
   "execution_count": null,
   "id": "1f764739",
   "metadata": {},
   "outputs": [],
   "source": [
    "# Step 7: Evaluate Logistic Regression\n",
    "print(\"Classification Report:\n",
    "\", classification_report(y_test, y_pred_log))\n",
    "print(\"Confusion Matrix:\n",
    "\", confusion_matrix(y_test, y_pred_log))\n",
    "roc_log = roc_auc_score(y_test, logreg.predict_proba(X_test_scaled)[:, 1])\n",
    "print(\"ROC AUC Score:\", roc_log)\n"
   ]
  },
  {
   "cell_type": "code",
   "execution_count": null,
   "id": "18401e26",
   "metadata": {},
   "outputs": [],
   "source": [
    "# Step 8: Train Random Forest\n",
    "rf = RandomForestClassifier(random_state=42)\n",
    "rf.fit(X_train, y_train)\n",
    "y_pred_rf = rf.predict(X_test)\n"
   ]
  },
  {
   "cell_type": "code",
   "execution_count": null,
   "id": "1c872ef7",
   "metadata": {},
   "outputs": [],
   "source": [
    "# Step 9: Evaluate Random Forest\n",
    "print(\"Classification Report:\n",
    "\", classification_report(y_test, y_pred_rf))\n",
    "print(\"Confusion Matrix:\n",
    "\", confusion_matrix(y_test, y_pred_rf))\n",
    "roc_rf = roc_auc_score(y_test, rf.predict_proba(X_test)[:, 1])\n",
    "print(\"ROC AUC Score:\", roc_rf)\n"
   ]
  },
  {
   "cell_type": "code",
   "execution_count": null,
   "id": "197cb06a",
   "metadata": {},
   "outputs": [],
   "source": [
    "# Step 10: Compare ROC curves\n",
    "fpr_log, tpr_log, _ = roc_curve(y_test, logreg.predict_proba(X_test_scaled)[:, 1])\n",
    "fpr_rf, tpr_rf, _ = roc_curve(y_test, rf.predict_proba(X_test)[:, 1])\n",
    "\n",
    "plt.figure(figsize=(8, 6))\n",
    "plt.plot(fpr_log, tpr_log, label=f\"Logistic Regression (AUC = {roc_log:.2f})\")\n",
    "plt.plot(fpr_rf, tpr_rf, label=f\"Random Forest (AUC = {roc_rf:.2f})\")\n",
    "plt.plot([0, 1], [0, 1], 'k--')\n",
    "plt.xlabel(\"False Positive Rate\")\n",
    "plt.ylabel(\"True Positive Rate\")\n",
    "plt.title(\"ROC Curve Comparison\")\n",
    "plt.legend()\n",
    "plt.grid()\n",
    "plt.show()\n"
   ]
  },
  {
   "cell_type": "code",
   "execution_count": null,
   "id": "0a37ab9d",
   "metadata": {},
   "outputs": [],
   "source": [
    "# Step 11: Save final model (optional)\n",
    "import joblib\n",
    "joblib.dump(rf, \"diabetes_rf_model.pkl\")\n",
    "print(\"✅ Random Forest model saved as 'diabetes_rf_model.pkl'\")\n"
   ]
  }
 ],
 "metadata": {},
 "nbformat": 4,
 "nbformat_minor": 5
}
